{
 "cells": [
  {
   "cell_type": "code",
   "execution_count": 1,
   "metadata": {},
   "outputs": [],
   "source": [
    "import pandas as pd\n",
    "import tensorflow as tf\n",
    "import numpy as np\n",
    "from keras.layers.embeddings import Embedding\n",
    "from keras.models import Model\n",
    "import string\n",
    "import re\n",
    "from sklearn.preprocessing import LabelBinarizer\n",
    "from keras.preprocessing.sequence import pad_sequences\n",
    "import keras\n",
    "from sklearn.model_selection import train_test_split\n",
    "import os\n",
    "import Scalagram\n",
    "from Scalagram import Scalagram"
   ]
  },
  {
   "cell_type": "code",
   "execution_count": 2,
   "metadata": {},
   "outputs": [],
   "source": [
    "file_location = \"/Users/lucasgover/Desktop/Wavelet-Transform/Data/SwainsonCut.wav\"\n",
    "sg = Scalagram(file_location)\n",
    "image = sg.get_data()"
   ]
  },
  {
   "cell_type": "code",
   "execution_count": 3,
   "metadata": {},
   "outputs": [
    {
     "data": {
      "text/plain": [
       "(76, 2)"
      ]
     },
     "execution_count": 3,
     "metadata": {},
     "output_type": "execute_result"
    }
   ],
   "source": [
    "image[0].shape"
   ]
  },
  {
   "cell_type": "code",
   "execution_count": 4,
   "metadata": {},
   "outputs": [],
   "source": [
    "\"\"\"\n",
    "original code from: https://github.com/FLming/CRNN.tf2/blob/master/crnn/models.py\n",
    "The original feature extraction structure from CRNN paper.\n",
    "Related paper: https://ieeexplore.ieee.org/abstract/document/7801919\n",
    "\"\"\"\n",
    "from keras import layers\n",
    "\n",
    "\n",
    "def vgg_style(x):\n",
    "\n",
    "    x = layers.Conv1D(\n",
    "        64, 3, padding='same', activation='relu', name='conv1')(x)\n",
    "    x = layers.MaxPool1D(pool_size=2, padding='same', name='pool1')(x)\n",
    "\n",
    "    x = layers.Conv1D(\n",
    "        128, 3, padding='same', activation='relu', name='conv2')(x)\n",
    "    x = layers.MaxPool1D(pool_size=2, padding='same', name='pool2')(x)\n",
    "\n",
    "    x = layers.Conv1D(256, 3, padding='same', use_bias=False, name='conv3')(x)\n",
    "    x = layers.BatchNormalization(name='bn3')(x)\n",
    "    x = layers.Activation('relu', name='relu3')(x)\n",
    "    x = layers.Conv1D(\n",
    "        256, 3, padding='same', activation='relu', name='conv4')(x)\n",
    "    x = layers.MaxPool1D(\n",
    "        pool_size=2, strides=(1), padding='same', name='pool4')(x)\n",
    "\n",
    "    x = layers.Conv1D(512, 3, padding='same', use_bias=False, name='conv5')(x)\n",
    "    x = layers.BatchNormalization(name='bn5')(x)\n",
    "    x = layers.Activation('relu', name='relu5')(x)\n",
    "    x = layers.Conv1D(\n",
    "        512, 3, padding='same', activation='relu', name='conv6')(x)\n",
    "    x = layers.MaxPool1D(\n",
    "        pool_size=2, strides=(1), padding='same', name='pool6')(x)\n",
    "\n",
    "    x = layers.Conv1D(512, 2, use_bias=False, name='conv7')(x)\n",
    "    x = layers.BatchNormalization(name='bn7')(x)\n",
    "    x = layers.Activation('relu', name='relu7')(x)\n",
    "\n",
    "    x = layers.Reshape((-1, 512), name='reshape7')(x)\n",
    "    \n",
    "    return x\n",
    "\n",
    "\n",
    "def build_model(num_classes,\n",
    "                weight=None,\n",
    "                preprocess=None,\n",
    "                postprocess=None,\n",
    "                img_shape=(32, None, 3),\n",
    "                model_name='crnn'):\n",
    "    x = img_input = keras.Input(shape=img_shape)\n",
    "    if preprocess is not None:\n",
    "        x = preprocess(x)\n",
    "    \n",
    "    x = vgg_style(x)\n",
    "    x = layers.Bidirectional(\n",
    "        layers.LSTM(units=256, return_sequences=True), name='bi_lstm1')(x)\n",
    "    x = layers.Bidirectional(\n",
    "        layers.LSTM(units=256, return_sequences=True), name='bi_lstm2')(x)\n",
    "    x = layers.Flatten()(x)\n",
    "    x = layers.Dense(units=num_classes, name='logits')(x)\n",
    "    \n",
    "    if postprocess is not None:\n",
    "        x = postprocess(x)\n",
    "\n",
    "    model = keras.Model(inputs=img_input, outputs=x, name=model_name)\n",
    "    if weight is not None:\n",
    "        model.load_weights(weight, by_name=True, skip_mismatch=True)\n",
    "    return model"
   ]
  },
  {
   "cell_type": "code",
   "execution_count": 5,
   "metadata": {},
   "outputs": [
    {
     "data": {
      "text/plain": [
       "165468"
      ]
     },
     "execution_count": 5,
     "metadata": {},
     "output_type": "execute_result"
    }
   ],
   "source": [
    "flattened_image = np.asarray(list(map(lambda a:a.flatten(),image)))\n",
    "len(flattened_image)\n",
    "rev_flatten = np.asarray(list(map(lambda a:a.reshape(len(image[0]),2),flattened_image)))\n",
    "len(rev_flatten)"
   ]
  },
  {
   "cell_type": "markdown",
   "metadata": {},
   "source": [
    "model = build_model(num_classes=len(flattened_image[0]),)"
   ]
  },
  {
   "cell_type": "code",
   "execution_count": 6,
   "metadata": {},
   "outputs": [
    {
     "name": "stderr",
     "output_type": "stream",
     "text": [
      "2023-02-15 18:27:07.479583: I tensorflow/core/platform/cpu_feature_guard.cc:151] This TensorFlow binary is optimized with oneAPI Deep Neural Network Library (oneDNN) to use the following CPU instructions in performance-critical operations:  AVX2 FMA\n",
      "To enable them in other operations, rebuild TensorFlow with the appropriate compiler flags.\n"
     ]
    }
   ],
   "source": [
    "model = build_model(len(flattened_image[0]),img_shape=image[0].shape)"
   ]
  },
  {
   "cell_type": "code",
   "execution_count": 7,
   "metadata": {},
   "outputs": [
    {
     "data": {
      "text/plain": [
       "(None, 152)"
      ]
     },
     "execution_count": 7,
     "metadata": {},
     "output_type": "execute_result"
    }
   ],
   "source": [
    "model.output_shape"
   ]
  },
  {
   "cell_type": "code",
   "execution_count": 8,
   "metadata": {},
   "outputs": [],
   "source": [
    "model.compile(optimizer=tf.keras.optimizers.Adam(0.95),\n",
    "                  loss=\"mean_squared_error\", metrics=[\"accuracy\"])"
   ]
  },
  {
   "cell_type": "code",
   "execution_count": 9,
   "metadata": {},
   "outputs": [
    {
     "name": "stdout",
     "output_type": "stream",
     "text": [
      "Model: \"crnn\"\n",
      "_________________________________________________________________\n",
      " Layer (type)                Output Shape              Param #   \n",
      "=================================================================\n",
      " input_1 (InputLayer)        [(None, 76, 2)]           0         \n",
      "                                                                 \n",
      " conv1 (Conv1D)              (None, 76, 64)            448       \n",
      "                                                                 \n",
      " pool1 (MaxPooling1D)        (None, 38, 64)            0         \n",
      "                                                                 \n",
      " conv2 (Conv1D)              (None, 38, 128)           24704     \n",
      "                                                                 \n",
      " pool2 (MaxPooling1D)        (None, 19, 128)           0         \n",
      "                                                                 \n",
      " conv3 (Conv1D)              (None, 19, 256)           98304     \n",
      "                                                                 \n",
      " bn3 (BatchNormalization)    (None, 19, 256)           1024      \n",
      "                                                                 \n",
      " relu3 (Activation)          (None, 19, 256)           0         \n",
      "                                                                 \n",
      " conv4 (Conv1D)              (None, 19, 256)           196864    \n",
      "                                                                 \n",
      " pool4 (MaxPooling1D)        (None, 19, 256)           0         \n",
      "                                                                 \n",
      " conv5 (Conv1D)              (None, 19, 512)           393216    \n",
      "                                                                 \n",
      " bn5 (BatchNormalization)    (None, 19, 512)           2048      \n",
      "                                                                 \n",
      " relu5 (Activation)          (None, 19, 512)           0         \n",
      "                                                                 \n",
      " conv6 (Conv1D)              (None, 19, 512)           786944    \n",
      "                                                                 \n",
      " pool6 (MaxPooling1D)        (None, 19, 512)           0         \n",
      "                                                                 \n",
      " conv7 (Conv1D)              (None, 18, 512)           524288    \n",
      "                                                                 \n",
      " bn7 (BatchNormalization)    (None, 18, 512)           2048      \n",
      "                                                                 \n",
      " relu7 (Activation)          (None, 18, 512)           0         \n",
      "                                                                 \n",
      " reshape7 (Reshape)          (None, 18, 512)           0         \n",
      "                                                                 \n",
      " bi_lstm1 (Bidirectional)    (None, 18, 512)           1574912   \n",
      "                                                                 \n",
      " bi_lstm2 (Bidirectional)    (None, 18, 512)           1574912   \n",
      "                                                                 \n",
      " flatten (Flatten)           (None, 9216)              0         \n",
      "                                                                 \n",
      " logits (Dense)              (None, 152)               1400984   \n",
      "                                                                 \n",
      "=================================================================\n",
      "Total params: 6,580,696\n",
      "Trainable params: 6,578,136\n",
      "Non-trainable params: 2,560\n",
      "_________________________________________________________________\n"
     ]
    }
   ],
   "source": [
    "model.summary()"
   ]
  },
  {
   "cell_type": "code",
   "execution_count": 10,
   "metadata": {},
   "outputs": [
    {
     "name": "stdout",
     "output_type": "stream",
     "text": [
      "Epoch 1/20\n",
      " 277/5171 [>.............................] - ETA: 28:13 - loss: 38041.1406 - accuracy: 0.0112"
     ]
    }
   ],
   "source": [
    "model.fit(image[:-1], flattened_image[1:],epochs=20)"
   ]
  }
 ],
 "metadata": {
  "kernelspec": {
   "display_name": "Python 3",
   "language": "python",
   "name": "python3"
  },
  "language_info": {
   "codemirror_mode": {
    "name": "ipython",
    "version": 3
   },
   "file_extension": ".py",
   "mimetype": "text/x-python",
   "name": "python",
   "nbconvert_exporter": "python",
   "pygments_lexer": "ipython3",
   "version": "3.10.2"
  },
  "orig_nbformat": 4,
  "vscode": {
   "interpreter": {
    "hash": "aee8b7b246df8f9039afb4144a1f6fd8d2ca17a180786b69acc140d282b71a49"
   }
  }
 },
 "nbformat": 4,
 "nbformat_minor": 2
}
